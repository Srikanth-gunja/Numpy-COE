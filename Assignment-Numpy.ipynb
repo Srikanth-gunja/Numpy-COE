{
 "cells": [
  {
   "cell_type": "code",
   "execution_count": 1,
   "id": "8ec7f89a-c0fd-498b-b16b-cb3e1876cad7",
   "metadata": {},
   "outputs": [],
   "source": [
    "import numpy as np"
   ]
  },
  {
   "cell_type": "markdown",
   "id": "d1c8a594-448f-4a83-9d7c-2aa453002c5d",
   "metadata": {},
   "source": [
    "**1.Array Creation**\n",
    "- Create a 1D array of numbers from 10 to 50.\n",
    "- Create a 3x3 array of random numbers between 0 and 1.\n"
   ]
  },
  {
   "cell_type": "code",
   "execution_count": 2,
   "id": "07ac912b-0c4f-4c2f-836b-209d24049a11",
   "metadata": {},
   "outputs": [
    {
     "data": {
      "text/plain": [
       "array([10, 11, 12, 13, 14, 15, 16, 17, 18, 19, 20, 21, 22, 23, 24, 25, 26,\n",
       "       27, 28, 29, 30, 31, 32, 33, 34, 35, 36, 37, 38, 39, 40, 41, 42, 43,\n",
       "       44, 45, 46, 47, 48, 49, 50])"
      ]
     },
     "execution_count": 2,
     "metadata": {},
     "output_type": "execute_result"
    }
   ],
   "source": [
    "np.arange(10,51)"
   ]
  },
  {
   "cell_type": "code",
   "execution_count": 9,
   "id": "cdee43b3-492e-412d-83d5-2d91e74e6b04",
   "metadata": {},
   "outputs": [
    {
     "data": {
      "text/plain": [
       "array([[0.48103762, 0.06568316, 0.83109135],\n",
       "       [0.76171922, 0.82728427, 0.87231289],\n",
       "       [0.1449603 , 0.17526698, 0.70254325]])"
      ]
     },
     "execution_count": 9,
     "metadata": {},
     "output_type": "execute_result"
    }
   ],
   "source": [
    "arr=np.random.random((3,3))\n",
    "arr"
   ]
  },
  {
   "cell_type": "markdown",
   "id": "7aae7477-5d64-4773-af53-ef914c2c33f7",
   "metadata": {},
   "source": [
    "**2.Array  Attributes**\t\n",
    "- Find the shape, size, and data type of the array you created in the previous task.\n"
   ]
  },
  {
   "cell_type": "code",
   "execution_count": 6,
   "id": "887bb857-4261-46cb-9f12-1cf5144153e0",
   "metadata": {},
   "outputs": [
    {
     "data": {
      "text/plain": [
       "(3, 3)"
      ]
     },
     "execution_count": 6,
     "metadata": {},
     "output_type": "execute_result"
    }
   ],
   "source": [
    "arr.shape"
   ]
  },
  {
   "cell_type": "code",
   "execution_count": 7,
   "id": "4c139021-af5c-470c-8a97-f18e953ebb52",
   "metadata": {},
   "outputs": [
    {
     "data": {
      "text/plain": [
       "9"
      ]
     },
     "execution_count": 7,
     "metadata": {},
     "output_type": "execute_result"
    }
   ],
   "source": [
    "arr.size"
   ]
  },
  {
   "cell_type": "code",
   "execution_count": 8,
   "id": "32ac47a4-530d-41dc-b2f2-be51fd1c62c4",
   "metadata": {},
   "outputs": [
    {
     "data": {
      "text/plain": [
       "dtype('float64')"
      ]
     },
     "execution_count": 8,
     "metadata": {},
     "output_type": "execute_result"
    }
   ],
   "source": [
    "arr.dtype"
   ]
  },
  {
   "cell_type": "markdown",
   "id": "00857f16-abc5-437d-9206-90f1c8a90e72",
   "metadata": {},
   "source": [
    "**3.Basic Operations**\n",
    "- Add 5 to every element of a 1D array.\n",
    "- Multiply two 2D arrays element-wise.\n"
   ]
  },
  {
   "cell_type": "code",
   "execution_count": 10,
   "id": "ab326168-ed04-4e01-bfe0-06b874fa2ba6",
   "metadata": {},
   "outputs": [
    {
     "data": {
      "text/plain": [
       "array([6, 7, 8])"
      ]
     },
     "execution_count": 10,
     "metadata": {},
     "output_type": "execute_result"
    }
   ],
   "source": [
    "a=np.array([1,2,3])\n",
    "a+5"
   ]
  },
  {
   "cell_type": "code",
   "execution_count": 12,
   "id": "3ef34be4-c8d4-4a74-8a70-451c1f5ecc5c",
   "metadata": {},
   "outputs": [
    {
     "data": {
      "text/plain": [
       "array([[ 5, 12],\n",
       "       [21, 32]])"
      ]
     },
     "execution_count": 12,
     "metadata": {},
     "output_type": "execute_result"
    }
   ],
   "source": [
    "a=np.array([[1,2],[3,4]])\n",
    "b=np.array([[5,6],[7,8]])\n",
    "a*b"
   ]
  },
  {
   "cell_type": "markdown",
   "id": "c4671513-0f0e-4b62-9450-2dd2f314ad82",
   "metadata": {},
   "source": [
    "**4.Indexing and Slicing**\n",
    "- Create a 5x5 array of integers from 1 to 25. Extract:\n",
    "- The first row.\n",
    "- The last column.\n",
    "- A subarray of the first three rows and first two columns.\n"
   ]
  },
  {
   "cell_type": "code",
   "execution_count": 13,
   "id": "6eb17b1a-9625-428f-8fec-8d30c59a3dcf",
   "metadata": {},
   "outputs": [
    {
     "data": {
      "text/plain": [
       "array([[19,  9, 17, 19,  7],\n",
       "       [ 3, 15, 16, 18,  2],\n",
       "       [21, 15, 22, 15, 10],\n",
       "       [23, 16, 22, 13, 22],\n",
       "       [11,  6, 16,  3, 18]], dtype=int32)"
      ]
     },
     "execution_count": 13,
     "metadata": {},
     "output_type": "execute_result"
    }
   ],
   "source": [
    "arr=np.random.randint(1,25,size=(5,5))\n",
    "arr"
   ]
  },
  {
   "cell_type": "code",
   "execution_count": 14,
   "id": "9280a3ad-c56a-4956-8a85-3e7ef17463aa",
   "metadata": {},
   "outputs": [
    {
     "data": {
      "text/plain": [
       "array([19,  9, 17, 19,  7], dtype=int32)"
      ]
     },
     "execution_count": 14,
     "metadata": {},
     "output_type": "execute_result"
    }
   ],
   "source": [
    "arr[0]"
   ]
  },
  {
   "cell_type": "code",
   "execution_count": 15,
   "id": "9fca8672-173b-4f7d-a30f-1e7d26d49650",
   "metadata": {},
   "outputs": [
    {
     "data": {
      "text/plain": [
       "array([11,  6, 16,  3, 18], dtype=int32)"
      ]
     },
     "execution_count": 15,
     "metadata": {},
     "output_type": "execute_result"
    }
   ],
   "source": [
    "arr[-1]"
   ]
  },
  {
   "cell_type": "code",
   "execution_count": 18,
   "id": "28fdc25d-66f1-4c90-b5d5-3fd14da21162",
   "metadata": {},
   "outputs": [
    {
     "data": {
      "text/plain": [
       "array([[19,  9],\n",
       "       [ 3, 15],\n",
       "       [21, 15]], dtype=int32)"
      ]
     },
     "execution_count": 18,
     "metadata": {},
     "output_type": "execute_result"
    }
   ],
   "source": [
    "arr[:3,:2]"
   ]
  },
  {
   "cell_type": "markdown",
   "id": "b4c48a18-8b1a-4cf7-82d0-94bf36e89cc8",
   "metadata": {},
   "source": [
    "**5.Aggregation**\n",
    "- Create a 10-element array of random integers between 1 and 100. Find:\n",
    "- The maximum value.\n",
    "- The minimum value.\n",
    "- The mean and standard deviation.\n"
   ]
  },
  {
   "cell_type": "code",
   "execution_count": 19,
   "id": "710cc0cb-15c4-4c03-ac34-ffd41ccda052",
   "metadata": {},
   "outputs": [
    {
     "data": {
      "text/plain": [
       "array([ 4, 16, 75, 55, 79,  4, 77, 80, 85, 28], dtype=int32)"
      ]
     },
     "execution_count": 19,
     "metadata": {},
     "output_type": "execute_result"
    }
   ],
   "source": [
    "arr=np.random.randint(1,100,size=(10,))\n",
    "arr"
   ]
  },
  {
   "cell_type": "code",
   "execution_count": 23,
   "id": "fd106c5a-e673-4f78-98a7-2cfe9d09779b",
   "metadata": {},
   "outputs": [
    {
     "name": "stdout",
     "output_type": "stream",
     "text": [
      "85\n"
     ]
    }
   ],
   "source": [
    "print(arr.max())"
   ]
  },
  {
   "cell_type": "code",
   "execution_count": 22,
   "id": "72a0e3c0-5ba0-444b-81dc-834e2599884f",
   "metadata": {},
   "outputs": [
    {
     "name": "stdout",
     "output_type": "stream",
     "text": [
      "4\n"
     ]
    }
   ],
   "source": [
    "print(arr.min())"
   ]
  },
  {
   "cell_type": "code",
   "execution_count": 24,
   "id": "92b13f0e-ac3a-4e7e-879f-893fe98ce3e2",
   "metadata": {},
   "outputs": [
    {
     "name": "stdout",
     "output_type": "stream",
     "text": [
      "50.3\n",
      "31.962634434601913\n"
     ]
    }
   ],
   "source": [
    "print(arr.mean())\n",
    "print(arr.std())"
   ]
  },
  {
   "cell_type": "markdown",
   "id": "cdbc2a92-47ea-4e30-a49a-2ca308d957dd",
   "metadata": {},
   "source": [
    "**6.\tReshaping**\n",
    "- Convert a 1D array of numbers from 1 to 12 into a 3x4 matrix.\n"
   ]
  },
  {
   "cell_type": "code",
   "execution_count": 26,
   "id": "91e9e817-dfee-4767-8270-29704b0e0440",
   "metadata": {},
   "outputs": [
    {
     "data": {
      "text/plain": [
       "array([[ 1,  2,  3,  4],\n",
       "       [ 5,  6,  7,  8],\n",
       "       [ 9, 10, 11, 12]])"
      ]
     },
     "execution_count": 26,
     "metadata": {},
     "output_type": "execute_result"
    }
   ],
   "source": [
    "arr=np.array([1,2,3,4,5,6,7,8,9,10,11,12])\n",
    "arr.reshape((3,4))"
   ]
  },
  {
   "cell_type": "markdown",
   "id": "64468889-d26f-4e69-826a-cb99c188cbab",
   "metadata": {},
   "source": [
    "**7.\tBroadcasting**\n",
    "- Create a 3x3 matrix of ones. Add a 1D array [1, 2, 3] to each row.\n"
   ]
  },
  {
   "cell_type": "code",
   "execution_count": 28,
   "id": "35809695-29dd-40ee-8735-796f3f02b62b",
   "metadata": {},
   "outputs": [
    {
     "data": {
      "text/plain": [
       "array([[2., 3., 4.],\n",
       "       [2., 3., 4.],\n",
       "       [2., 3., 4.]])"
      ]
     },
     "execution_count": 28,
     "metadata": {},
     "output_type": "execute_result"
    }
   ],
   "source": [
    "ones=np.ones((3,3))\n",
    "ones+[1,2,3]\n"
   ]
  },
  {
   "cell_type": "markdown",
   "id": "49fb64eb-ec40-4660-9a27-d7d1eb7efb6e",
   "metadata": {},
   "source": [
    "**8.\tFiltering**\n",
    "- Create a 1D array of random integers between 1 and 50. Extract all elements that are divisible by 5.\n"
   ]
  },
  {
   "cell_type": "code",
   "execution_count": 32,
   "id": "a3c8522c-9245-4da0-8746-71f101e16e83",
   "metadata": {},
   "outputs": [
    {
     "data": {
      "text/plain": [
       "array([[41,  2, 19],\n",
       "       [ 2,  9, 20],\n",
       "       [ 3, 31, 20]], dtype=int32)"
      ]
     },
     "execution_count": 32,
     "metadata": {},
     "output_type": "execute_result"
    }
   ],
   "source": [
    "arr=np.random.randint(1,50,size=(3,3))\n",
    "arr"
   ]
  },
  {
   "cell_type": "code",
   "execution_count": 36,
   "id": "df2ceeb6-0fe5-4550-bdaf-a047b2337b9e",
   "metadata": {},
   "outputs": [
    {
     "data": {
      "text/plain": [
       "array([20, 20], dtype=int32)"
      ]
     },
     "execution_count": 36,
     "metadata": {},
     "output_type": "execute_result"
    }
   ],
   "source": [
    "arr[arr%5==0]"
   ]
  },
  {
   "cell_type": "markdown",
   "id": "36242223-d424-4690-bbbe-27cf51ddedbb",
   "metadata": {},
   "source": [
    "**9.\tMatrix Multiplication**\n",
    "- Create two 2x2 matrices and perform matrix multiplication.\n"
   ]
  },
  {
   "cell_type": "code",
   "execution_count": 38,
   "id": "02901cfc-1fea-4d2e-b46b-62beec441645",
   "metadata": {},
   "outputs": [
    {
     "data": {
      "text/plain": [
       "array([[12,  9],\n",
       "       [39, 30]])"
      ]
     },
     "execution_count": 38,
     "metadata": {},
     "output_type": "execute_result"
    }
   ],
   "source": [
    "a=np.array([[1,2],[4,5]])\n",
    "b=np.array([[6,5],[3,2]])\n",
    "np.dot(a,b)"
   ]
  },
  {
   "cell_type": "markdown",
   "id": "42285ae1-6190-42ff-a302-5069e495bc72",
   "metadata": {},
   "source": [
    "**10.\tAdvanced Indexing**\n",
    "- Given a 4x4 array, use fancy indexing to extract the diagonal elements.\n"
   ]
  },
  {
   "cell_type": "code",
   "execution_count": 39,
   "id": "140b2535-802b-4918-b527-be4513fa4ad3",
   "metadata": {},
   "outputs": [
    {
     "data": {
      "text/plain": [
       "array([[10, 39, 51, 18],\n",
       "       [55, 23, 51, 67],\n",
       "       [ 5, 21, 12, 31],\n",
       "       [54, 65, 65, 80]], dtype=int32)"
      ]
     },
     "execution_count": 39,
     "metadata": {},
     "output_type": "execute_result"
    }
   ],
   "source": [
    "arr=np.random.randint(1,100,size=(4,4))\n",
    "arr"
   ]
  },
  {
   "cell_type": "code",
   "execution_count": 40,
   "id": "b3d7b1e4-1ee5-4e0b-be9b-227b1d670ba8",
   "metadata": {},
   "outputs": [
    {
     "data": {
      "text/plain": [
       "array([10, 23, 12, 80], dtype=int32)"
      ]
     },
     "execution_count": 40,
     "metadata": {},
     "output_type": "execute_result"
    }
   ],
   "source": [
    "arr.diagonal()"
   ]
  },
  {
   "cell_type": "code",
   "execution_count": null,
   "id": "263df0de-bb92-4705-9617-ec73989836cd",
   "metadata": {},
   "outputs": [],
   "source": []
  }
 ],
 "metadata": {
  "kernelspec": {
   "display_name": "Python 3 (ipykernel)",
   "language": "python",
   "name": "python3"
  },
  "language_info": {
   "codemirror_mode": {
    "name": "ipython",
    "version": 3
   },
   "file_extension": ".py",
   "mimetype": "text/x-python",
   "name": "python",
   "nbconvert_exporter": "python",
   "pygments_lexer": "ipython3",
   "version": "3.9.13"
  }
 },
 "nbformat": 4,
 "nbformat_minor": 5
}
