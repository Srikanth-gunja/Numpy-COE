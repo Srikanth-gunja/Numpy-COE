{
 "cells": [
  {
   "cell_type": "code",
   "execution_count": 1,
   "id": "782ed214",
   "metadata": {},
   "outputs": [],
   "source": [
    "import numpy as np\n"
   ]
  },
  {
   "cell_type": "code",
   "execution_count": 21,
   "id": "212bc684",
   "metadata": {},
   "outputs": [
    {
     "data": {
      "text/plain": [
       "array([1, 2, 3])"
      ]
     },
     "execution_count": 21,
     "metadata": {},
     "output_type": "execute_result"
    }
   ],
   "source": [
    "# 1-D Array\n",
    "np.array([1,2,3])\n"
   ]
  },
  {
   "cell_type": "code",
   "execution_count": 22,
   "id": "0ddcddd7",
   "metadata": {},
   "outputs": [
    {
     "data": {
      "text/plain": [
       "array([[1, 2, 3],\n",
       "       [4, 5, 6]])"
      ]
     },
     "execution_count": 22,
     "metadata": {},
     "output_type": "execute_result"
    }
   ],
   "source": [
    "# 2-D Array\n",
    "np.array([[1,2,3],[4,5,6]])\n"
   ]
  },
  {
   "cell_type": "code",
   "execution_count": 23,
   "id": "fb488822",
   "metadata": {},
   "outputs": [
    {
     "data": {
      "text/plain": [
       "array([[0., 0., 0., 0.],\n",
       "       [0., 0., 0., 0.]])"
      ]
     },
     "execution_count": 23,
     "metadata": {},
     "output_type": "execute_result"
    }
   ],
   "source": [
    "# Array of Zeros\n",
    "np.zeros((2,4))"
   ]
  },
  {
   "cell_type": "code",
   "execution_count": 24,
   "id": "ddb997b6",
   "metadata": {},
   "outputs": [
    {
     "name": "stdout",
     "output_type": "stream",
     "text": [
      "[[1. 1. 1. 1.]\n",
      " [1. 1. 1. 1.]\n",
      " [1. 1. 1. 1.]\n",
      " [1. 1. 1. 1.]]\n"
     ]
    }
   ],
   "source": [
    "# Array of ones\n",
    "\n",
    "np.ones((4,4))\n",
    "print(ones)"
   ]
  },
  {
   "cell_type": "code",
   "execution_count": 25,
   "id": "cb2085b0",
   "metadata": {},
   "outputs": [
    {
     "data": {
      "text/plain": [
       "array([[0.83901913, 0.52971075, 0.2417575 ],\n",
       "       [0.15853867, 0.15375238, 0.6338501 ],\n",
       "       [0.03189116, 0.91318845, 0.52678033],\n",
       "       [0.34397044, 0.75525695, 0.56028189]])"
      ]
     },
     "execution_count": 25,
     "metadata": {},
     "output_type": "execute_result"
    }
   ],
   "source": [
    "# Random values in 4x3 size\n",
    "np.random.random((4,3))\n"
   ]
  },
  {
   "cell_type": "code",
   "execution_count": 26,
   "id": "796d0f13",
   "metadata": {},
   "outputs": [
    {
     "data": {
      "text/plain": [
       "array([[1, 8, 7],\n",
       "       [8, 2, 1]])"
      ]
     },
     "execution_count": 26,
     "metadata": {},
     "output_type": "execute_result"
    }
   ],
   "source": [
    "# Array of Size 2x3 with random integers (1-10)\n",
    "np.random.randint(1,10,size=(2,3))"
   ]
  },
  {
   "cell_type": "code",
   "execution_count": 27,
   "id": "2d53cac5",
   "metadata": {},
   "outputs": [
    {
     "data": {
      "text/plain": [
       "array([[1., 0., 0.],\n",
       "       [0., 1., 0.],\n",
       "       [0., 0., 1.]])"
      ]
     },
     "execution_count": 27,
     "metadata": {},
     "output_type": "execute_result"
    }
   ],
   "source": [
    "# Identity Matrix\n",
    "np.eye(3)"
   ]
  },
  {
   "cell_type": "code",
   "execution_count": 31,
   "id": "9f6623a0",
   "metadata": {},
   "outputs": [
    {
     "data": {
      "text/plain": [
       "array([0, 2, 4, 6, 8])"
      ]
     },
     "execution_count": 31,
     "metadata": {},
     "output_type": "execute_result"
    }
   ],
   "source": [
    "# Array with a range of values\n",
    "np.arange(0,10,2) # start ,stop, step"
   ]
  },
  {
   "cell_type": "markdown",
   "id": "7ecef7ed",
   "metadata": {},
   "source": [
    "### Attributes"
   ]
  },
  {
   "cell_type": "code",
   "execution_count": 40,
   "id": "d584cb5c",
   "metadata": {},
   "outputs": [
    {
     "name": "stdout",
     "output_type": "stream",
     "text": [
      "Shape :  (2, 3)\n",
      "Size :  6\n",
      "Data Type :  int32\n",
      "No.of dimensions :  2\n"
     ]
    }
   ],
   "source": [
    "\n",
    "arr=np.array([[1,2,3],[4,5,6]])\n",
    "print('Shape : ',arr.shape)\n",
    "print('Size : ',arr.size)\n",
    "print('Data Type : ',arr.dtype)\n",
    "print('No.of dimensions : ',arr.ndim)"
   ]
  },
  {
   "cell_type": "code",
   "execution_count": 50,
   "id": "7a45f6e2",
   "metadata": {},
   "outputs": [
    {
     "name": "stdout",
     "output_type": "stream",
     "text": [
      "2\n",
      "[1 2 3]\n",
      "6\n",
      "[[2 3]\n",
      " [5 6]]\n",
      "[2 3 5 6]\n"
     ]
    }
   ],
   "source": [
    "# Accessing Values in array\n",
    "print(arr[0,1])\n",
    "print(arr[0])\n",
    "print(arr[-1,-1])\n",
    "print(arr[:,1:3])\n",
    "print(arr[:,1:3].flatten())\n"
   ]
  },
  {
   "cell_type": "markdown",
   "id": "f62def9a",
   "metadata": {},
   "source": [
    "### Broadcasting \n",
    "- Broadcasting simplifies mathematical operations on arrays with different shapes. It enables NumPy to efficiently apply operations element-wise without explicitly copying or reshaping data."
   ]
  },
  {
   "cell_type": "code",
   "execution_count": 85,
   "id": "1f6ac456",
   "metadata": {},
   "outputs": [
    {
     "name": "stdout",
     "output_type": "stream",
     "text": [
      "Array1:[0 1 2 3] ,Array2:[4 5 6 7]\n",
      "[ 4  6  8 10]\n",
      "[-4 -4 -4 -4]\n",
      "[0.         0.2        0.33333333 0.42857143]\n",
      "[ 0  5 12 21]\n",
      "[   0    1   64 2187]\n",
      "[0 0 0 0]\n"
     ]
    }
   ],
   "source": [
    "arr1=np.arange(0,4)\n",
    "arr2=np.arange(4,8)\n",
    "print(f\"Array1:{arr1} ,Array2:{arr2}\")\n",
    "print(arr1+arr2)\n",
    "print(arr1-arr2)\n",
    "print(arr1/arr2)\n",
    "print(arr1*arr2)\n",
    "print(arr1**arr2)\n",
    "print(arr1//arr2)\n",
    "\n"
   ]
  },
  {
   "cell_type": "code",
   "execution_count": 86,
   "id": "345eea8a",
   "metadata": {},
   "outputs": [
    {
     "name": "stdout",
     "output_type": "stream",
     "text": [
      "[1 2 3 4]\n",
      "[0 2 4 6]\n",
      "[0 0 1 1]\n",
      "[0 1 2 3]\n"
     ]
    }
   ],
   "source": [
    "print(arr1+1)\n",
    "print(arr1*2)\n",
    "print(arr1//2)\n",
    "print(arr1**1)\n"
   ]
  },
  {
   "cell_type": "markdown",
   "id": "859e0f0d",
   "metadata": {},
   "source": [
    "### Matrix Operations"
   ]
  },
  {
   "cell_type": "code",
   "execution_count": 66,
   "id": "368f6ce3",
   "metadata": {},
   "outputs": [
    {
     "name": "stdout",
     "output_type": "stream",
     "text": [
      "[[ 9 16 21]\n",
      " [24 25 24]\n",
      " [21 16  9]]\n",
      "[[ 30  24  18]\n",
      " [ 84  69  54]\n",
      " [138 114  90]]\n",
      "[[-10  20 -10]\n",
      " [-10  20 -10]\n",
      " [-10  20 -10]]\n"
     ]
    }
   ],
   "source": [
    "a=np.array([\n",
    "    [1,2,3],[4,5,6],[7,8,9]\n",
    "])\n",
    "b=np.array([\n",
    "    [9,8,7],[6,5,4],[3,2,1]\n",
    "])\n",
    "print(a*b)\n",
    "#Matrix Multiplication\n",
    "print(np.dot(a,b))\n",
    "print(np.cross(a,b))"
   ]
  },
  {
   "cell_type": "code",
   "execution_count": 69,
   "id": "b9d08f2c",
   "metadata": {},
   "outputs": [
    {
     "data": {
      "text/plain": [
       "<Axes: >"
      ]
     },
     "execution_count": 69,
     "metadata": {},
     "output_type": "execute_result"
    },
    {
     "data": {
      "image/png": "[encoded data removed]",
      "text/plain": [
       "<Figure size 640x480 with 1 Axes>"
      ]
     },
     "metadata": {},
     "output_type": "display_data"
    }
   ],
   "source": [
    "import seaborn as sns\n",
    "sns.lineplot(data=np.dot(a,b),marker='o')"
   ]
  },
  {
   "cell_type": "markdown",
   "id": "28f833a2",
   "metadata": {},
   "source": [
    "### Univesal functions"
   ]
  },
  {
   "cell_type": "code",
   "execution_count": 72,
   "id": "90e27454",
   "metadata": {},
   "outputs": [
    {
     "data": {
      "text/plain": [
       "array([[2.71828183e+00, 7.38905610e+00, 2.00855369e+01],\n",
       "       [5.45981500e+01, 1.48413159e+02, 4.03428793e+02],\n",
       "       [1.09663316e+03, 2.98095799e+03, 8.10308393e+03]])"
      ]
     },
     "execution_count": 72,
     "metadata": {},
     "output_type": "execute_result"
    }
   ],
   "source": [
    "np.exp(a) # Exponention"
   ]
  },
  {
   "cell_type": "code",
   "execution_count": 73,
   "id": "c70ccd68",
   "metadata": {},
   "outputs": [
    {
     "data": {
      "text/plain": [
       "array([[1.        , 1.41421356, 1.73205081],\n",
       "       [2.        , 2.23606798, 2.44948974],\n",
       "       [2.64575131, 2.82842712, 3.        ]])"
      ]
     },
     "execution_count": 73,
     "metadata": {},
     "output_type": "execute_result"
    }
   ],
   "source": [
    "np.sqrt(a) # square root"
   ]
  },
  {
   "cell_type": "code",
   "execution_count": 74,
   "id": "fca5cfcc",
   "metadata": {},
   "outputs": [
    {
     "data": {
      "text/plain": [
       "array([[0.        , 0.69314718, 1.09861229],\n",
       "       [1.38629436, 1.60943791, 1.79175947],\n",
       "       [1.94591015, 2.07944154, 2.19722458]])"
      ]
     },
     "execution_count": 74,
     "metadata": {},
     "output_type": "execute_result"
    }
   ],
   "source": [
    "np.log(a) # Logarithm"
   ]
  },
  {
   "cell_type": "markdown",
   "id": "02f1fc12",
   "metadata": {},
   "source": [
    "### Aggregation Functions"
   ]
  },
  {
   "cell_type": "code",
   "execution_count": 76,
   "id": "c3ccb073",
   "metadata": {},
   "outputs": [],
   "source": [
    "arr=np.array([[1,2,3],[4,5,6]])\n"
   ]
  },
  {
   "cell_type": "code",
   "execution_count": 77,
   "id": "2c68a7dd",
   "metadata": {},
   "outputs": [
    {
     "data": {
      "text/plain": [
       "21"
      ]
     },
     "execution_count": 77,
     "metadata": {},
     "output_type": "execute_result"
    }
   ],
   "source": [
    "np.sum(arr) # Sum "
   ]
  },
  {
   "cell_type": "code",
   "execution_count": 78,
   "id": "076c7f11",
   "metadata": {},
   "outputs": [
    {
     "data": {
      "text/plain": [
       "3.5"
      ]
     },
     "execution_count": 78,
     "metadata": {},
     "output_type": "execute_result"
    }
   ],
   "source": [
    "np.mean(arr) # Mean"
   ]
  },
  {
   "cell_type": "code",
   "execution_count": 80,
   "id": "4004d169",
   "metadata": {},
   "outputs": [
    {
     "data": {
      "text/plain": [
       "1.707825127659933"
      ]
     },
     "execution_count": 80,
     "metadata": {},
     "output_type": "execute_result"
    }
   ],
   "source": [
    "np.std(arr) # Standard deviation "
   ]
  },
  {
   "cell_type": "code",
   "execution_count": 81,
   "id": "efcaae69",
   "metadata": {},
   "outputs": [
    {
     "data": {
      "text/plain": [
       "6"
      ]
     },
     "execution_count": 81,
     "metadata": {},
     "output_type": "execute_result"
    }
   ],
   "source": [
    "np.max(arr) # Maximum Element"
   ]
  },
  {
   "cell_type": "code",
   "execution_count": 83,
   "id": "3ea8b0cd",
   "metadata": {},
   "outputs": [
    {
     "data": {
      "text/plain": [
       "1"
      ]
     },
     "execution_count": 83,
     "metadata": {},
     "output_type": "execute_result"
    }
   ],
   "source": [
    "np.min(arr) # Minium Element"
   ]
  },
  {
   "cell_type": "markdown",
   "id": "809e8e40",
   "metadata": {},
   "source": [
    "### Reshaping Arrays"
   ]
  },
  {
   "cell_type": "code",
   "execution_count": 87,
   "id": "57404f0a",
   "metadata": {},
   "outputs": [
    {
     "data": {
      "text/plain": [
       "array([[1, 2, 3],\n",
       "       [4, 5, 6]])"
      ]
     },
     "execution_count": 87,
     "metadata": {},
     "output_type": "execute_result"
    }
   ],
   "source": [
    "arr"
   ]
  },
  {
   "cell_type": "code",
   "execution_count": 88,
   "id": "683fb47a",
   "metadata": {},
   "outputs": [
    {
     "data": {
      "text/plain": [
       "array([[1, 2],\n",
       "       [3, 4],\n",
       "       [5, 6]])"
      ]
     },
     "execution_count": 88,
     "metadata": {},
     "output_type": "execute_result"
    }
   ],
   "source": [
    "arr.reshape(3,2)"
   ]
  },
  {
   "cell_type": "markdown",
   "id": "fc22cb08",
   "metadata": {},
   "source": [
    "### Stacking and Spliting"
   ]
  },
  {
   "cell_type": "code",
   "execution_count": 94,
   "id": "570e87f0",
   "metadata": {},
   "outputs": [
    {
     "data": {
      "text/plain": [
       "array([[1, 2],\n",
       "       [3, 4]])"
      ]
     },
     "execution_count": 94,
     "metadata": {},
     "output_type": "execute_result"
    }
   ],
   "source": [
    "a=np.array([1,2])\n",
    "b=np.array([3,4])\n",
    "np.vstack((a,b)) # vertical Stack"
   ]
  },
  {
   "cell_type": "code",
   "execution_count": 95,
   "id": "e8b6a26a",
   "metadata": {},
   "outputs": [
    {
     "data": {
      "text/plain": [
       "array([1, 2, 3, 4])"
      ]
     },
     "execution_count": 95,
     "metadata": {},
     "output_type": "execute_result"
    }
   ],
   "source": [
    "np.hstack((a,b)) # Horizontal Stack"
   ]
  },
  {
   "cell_type": "code",
   "execution_count": 100,
   "id": "fd2df833",
   "metadata": {},
   "outputs": [
    {
     "data": {
      "text/plain": [
       "[array([1, 2]), array([3, 4]), array([5, 6])]"
      ]
     },
     "execution_count": 100,
     "metadata": {},
     "output_type": "execute_result"
    }
   ],
   "source": [
    "arr=np.array([1,2,3,4,5,6])\n",
    "np.array_split(arr,3) # spliting into three parts"
   ]
  },
  {
   "cell_type": "markdown",
   "id": "2298ba53",
   "metadata": {},
   "source": [
    "### Copy and view\n",
    "- View shares  memory\n",
    "- Copy does not share memory"
   ]
  },
  {
   "cell_type": "code",
   "execution_count": 105,
   "id": "bd5158d3",
   "metadata": {},
   "outputs": [
    {
     "data": {
      "text/plain": [
       "array([10,  2,  3])"
      ]
     },
     "execution_count": 105,
     "metadata": {},
     "output_type": "execute_result"
    }
   ],
   "source": [
    "arr= np.array([1,2,3])\n",
    "view=arr.view()\n",
    "view[0]=10\n",
    "arr  # here view array and arr array shares same memory"
   ]
  },
  {
   "cell_type": "code",
   "execution_count": 106,
   "id": "035f78b7",
   "metadata": {},
   "outputs": [
    {
     "data": {
      "text/plain": [
       "array([10,  2,  3])"
      ]
     },
     "execution_count": 106,
     "metadata": {},
     "output_type": "execute_result"
    }
   ],
   "source": [
    "copy=arr.copy()\n",
    "copy[0]=100\n",
    "arr"
   ]
  },
  {
   "cell_type": "markdown",
   "id": "4f210c38",
   "metadata": {},
   "source": [
    "### Saving and loading"
   ]
  },
  {
   "cell_type": "code",
   "execution_count": 110,
   "id": "650dbf18",
   "metadata": {},
   "outputs": [],
   "source": [
    "arr=np.array([1,2,3])\n",
    "np.save('array.npy',arr) # Save to file"
   ]
  },
  {
   "cell_type": "code",
   "execution_count": 111,
   "id": "77ef575a",
   "metadata": {},
   "outputs": [
    {
     "name": "stdout",
     "output_type": "stream",
     "text": [
      "[1 2 3]\n"
     ]
    }
   ],
   "source": [
    "loaded_arr=np.load('array.npy')\n",
    "print(loaded_arr) # Loading from file"
   ]
  },
  {
   "cell_type": "code",
   "execution_count": null,
   "id": "cab3f6c7",
   "metadata": {},
   "outputs": [],
   "source": []
  }
 ],
 "metadata": {
  "kernelspec": {
   "display_name": "Python 3 (ipykernel)",
   "language": "python",
   "name": "python3"
  },
  "language_info": {
   "codemirror_mode": {
    "name": "ipython",
    "version": 3
   },
   "file_extension": ".py",
   "mimetype": "text/x-python",
   "name": "python",
   "nbconvert_exporter": "python",
   "pygments_lexer": "ipython3",
   "version": "3.11.5"
  }
 },
 "nbformat": 4,
 "nbformat_minor": 5
}
